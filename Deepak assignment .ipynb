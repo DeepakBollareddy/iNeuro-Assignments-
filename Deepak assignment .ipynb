{
 "cells": [
  {
   "cell_type": "raw",
   "id": "4ae8b577",
   "metadata": {},
   "source": [
    "1)Indentation error is the spacing error in python, each line requires a certain amount of spacing based on the block of code the line is present in\n",
    "\n",
    "For example:\n",
    " if (condition):\n",
    "     statement1\n",
    "the space before the statement1 is indentaiton, it occurs after the if condition."
   ]
  },
  {
   "cell_type": "code",
   "execution_count": null,
   "id": "32244d67",
   "metadata": {},
   "outputs": [],
   "source": [
    "#2\n",
    "classes = int(input(\"Hey friend, is class started?: [0-False/1-True]\"))\n",
    "class_started = bool(classes)//change is made here\n",
    "if class_started:\n",
    "   print(\"Since class started...\")\n",
    "   print(\"Lets concentrate\")\n",
    "else:\n",
    "   print(\"Since class is not started...\")\n",
    "   print(\"let's revise\")"
   ]
  },
  {
   "cell_type": "code",
   "execution_count": null,
   "id": "6c5bea7b",
   "metadata": {},
   "outputs": [],
   "source": [
    "#3\n",
    "hello=input()\n",
    "if type(hello)==str:\n",
    "    print(\"yes\")\n",
    "else:\n",
    "    print(\"No\")"
   ]
  },
  {
   "cell_type": "code",
   "execution_count": null,
   "id": "364ffbbf",
   "metadata": {
    "scrolled": true
   },
   "outputs": [],
   "source": [
    "#4\n",
    "a,b,c=map(int,input().split()) \n",
    "if(a>b and a>c): \n",
    "    print(\"A is largest\") \n",
    "elif(b>a and b>c): \n",
    "    print(\"B\") \n",
    "else: \n",
    "    print(\"C\")"
   ]
  },
  {
   "cell_type": "raw",
   "id": "e763b464",
   "metadata": {},
   "source": [
    "5) False"
   ]
  },
  {
   "cell_type": "raw",
   "id": "a7c66aca",
   "metadata": {},
   "source": [
    " 6)\n",
    "  A = 5.0\n",
    "  B = 10/2\n",
    "  print(A is B)\n",
    "  \n",
    "  Result: False B doesnt belong to the same object.\n",
    "  \n",
    "  A = 5.0\n",
    "  B = int(10/2)\n",
    "  print(A is B)\n",
    "  \n",
    "  Result: False \n",
    "  \n",
    "  A = 5.0\n",
    "  B = float(10/2)\n",
    "  print(A is B)\n",
    "  \n",
    "  Result: False"
   ]
  },
  {
   "cell_type": "code",
   "execution_count": null,
   "id": "b27a4f7b",
   "metadata": {},
   "outputs": [],
   "source": [
    "#7\n",
    "a=int(input())\n",
    "if(a%3==0 or a%5==0):\n",
    "    print(\"That number is divisible by either 3 or 5\")\n",
    "else:\n",
    "    print(\"That number is not divisible by either 3 or 5\")"
   ]
  },
  {
   "cell_type": "code",
   "execution_count": null,
   "id": "bd3ea259",
   "metadata": {},
   "outputs": [],
   "source": [
    "#8\n",
    "l,b = map(int,input().split())\n",
    "area=l*b\n",
    "print(area)\n",
    "if(l==b):\n",
    "    print(\"square\")\n",
    "else:\n",
    "    print(\"rectangle\")"
   ]
  },
  {
   "cell_type": "code",
   "execution_count": null,
   "id": "8974c732",
   "metadata": {},
   "outputs": [],
   "source": [
    "#9\n",
    "r1,r2=map(int,input().split())\n",
    "area=float(3.14*r1*r1)\n",
    "area2=float(3.14*r2*r2)\n",
    "print(\"area of first circle is \", area)\n",
    "print(\"Area of second circle is \",area2)\n",
    "if(area>area2):\n",
    "    print(\"first cricle is larger\")\n",
    "else:\n",
    "    print(\"second circle is larger\")"
   ]
  },
  {
   "cell_type": "code",
   "execution_count": null,
   "id": "ed3196de",
   "metadata": {},
   "outputs": [],
   "source": [
    "#10\n",
    "a=int(input())\n",
    "if(a%4==0 and a%100!=0):\n",
    "    print(\"Year is leap year\")\n",
    "elif(a%100 == 0 and a%400==0):\n",
    "    print(\"Leap year\")\n",
    "else:\n",
    "    print(\"Not a leap year\")"
   ]
  },
  {
   "cell_type": "code",
   "execution_count": null,
   "id": "b9b1f57d",
   "metadata": {},
   "outputs": [],
   "source": []
  }
 ],
 "metadata": {
  "kernelspec": {
   "display_name": "Python 3 (ipykernel)",
   "language": "python",
   "name": "python3"
  },
  "language_info": {
   "codemirror_mode": {
    "name": "ipython",
    "version": 3
   },
   "file_extension": ".py",
   "mimetype": "text/x-python",
   "name": "python",
   "nbconvert_exporter": "python",
   "pygments_lexer": "ipython3",
   "version": "3.9.12"
  }
 },
 "nbformat": 4,
 "nbformat_minor": 5
}
